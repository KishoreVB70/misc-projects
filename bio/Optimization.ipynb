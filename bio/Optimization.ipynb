{
 "cells": [
  {
   "cell_type": "code",
   "execution_count": 68,
   "id": "987960b4-b9b4-45af-bdd8-3e937fd579a6",
   "metadata": {},
   "outputs": [],
   "source": [
    "import numpy as np\n",
    "from pyswarm import pso\n",
    "import tflite_runtime.interpreter as tflite"
   ]
  },
  {
   "cell_type": "code",
   "execution_count": 91,
   "id": "baf6bc8b-1979-49ed-a502-f8bdfb509956",
   "metadata": {},
   "outputs": [
    {
     "name": "stdout",
     "output_type": "stream",
     "text": [
      "Stopping search: maximum iterations reached --> 100\n",
      "29.1688,0.0295,1.2204,1.8000,55.0656\n"
     ]
    }
   ],
   "source": [
    "interpreter = tflite.Interpreter(model_path=\"./ccd1.tflite\")\n",
    "interpreter.allocate_tensors()\n",
    "input_details = interpreter.get_input_details()\n",
    "output_details = interpreter.get_output_details()\n",
    "\n",
    "\n",
    "def runPSO(obj, bounds):\n",
    "    bounds  = np.array(bounds)\n",
    "    lower_bounds = bounds[:,0].flatten()\n",
    "    upper_bounds = bounds[:,1].flatten()\n",
    "    x_opt, f_opt = pso(obj, lower_bounds, upper_bounds)\n",
    "    return x_opt, f_opt\n",
    "    \n",
    "    \n",
    "def pure(bounds):\n",
    "    def pure_obj(X):\n",
    "        X = [X]\n",
    "        X = np.array(X)\n",
    "        input_data = X.astype(np.float32)\n",
    "        input_data = input_data.reshape(1,4)\n",
    "        interpreter.set_tensor(input_details[0]['index'], input_data)\n",
    "        interpreter.invoke()\n",
    "        results = interpreter.get_tensor(output_details[0]['index'])\n",
    "        return -results\n",
    "    values, protein = runPSO(pure_obj, bounds)\n",
    "    protein = np.array([-protein])\n",
    "    protein = protein.reshape(1,)\n",
    "    pro = np.concatenate((values, protein))\n",
    "    formatted_list = [format(num, '.4f') for num in pro]\n",
    "    return ','.join(map(str, formatted_list))\n",
    "    \n",
    "bbd = np.array([[24,30], [0.012,0.082], [0.4,2], [0.4,1.8]])\n",
    "print(pure(bbd))"
   ]
  },
  {
   "cell_type": "code",
   "execution_count": 90,
   "id": "0786e85d-a26c-42d7-beca-9255e6190ab6",
   "metadata": {},
   "outputs": [
    {
     "name": "stdout",
     "output_type": "stream",
     "text": [
      "Stopping search: maximum iterations reached --> 100\n",
      "24.0000,0.0437,1.9236,0.9048,52.0484,2.1687\n"
     ]
    }
   ],
   "source": [
    "def time(bounds):\n",
    "    def time_obj(X):\n",
    "        time = X[0]\n",
    "        X = [X]\n",
    "        X = np.array(X)\n",
    "        input_data = X.astype(np.float32)\n",
    "        input_data = input_data.reshape(1,4)\n",
    "        interpreter.set_tensor(input_details[0]['index'], input_data)\n",
    "        interpreter.invoke()\n",
    "        protein = interpreter.get_tensor(output_details[0]['index'])\n",
    "        result = protein/time\n",
    "        return -result\n",
    "    bounds = np.array(bounds)\n",
    "    values, perTime = runPSO(time_obj, bounds)\n",
    "\n",
    "\n",
    "    # Predict protein\n",
    "    values = np.array(values)\n",
    "    input_data = values.astype(np.float32)\n",
    "    input_data = input_data.reshape(1,4)\n",
    "    interpreter.set_tensor(input_details[0]['index'], input_data)\n",
    "    interpreter.invoke()\n",
    "    protein = interpreter.get_tensor(output_details[0]['index'])\n",
    "\n",
    "    perTime = np.array([-perTime])\n",
    "    protein = np.array(protein)\n",
    "    protein = protein.reshape(1,)\n",
    "    perTime = perTime.reshape(1,)\n",
    "\n",
    "    pro = np.concatenate((values, protein, perTime))\n",
    "    formatted_list = [format(num, '.4f') for num in pro]\n",
    "    return ','.join(map(str, formatted_list))\n",
    "\n",
    "bbd = np.array([[24,30], [0.012,0.082], [0.4,2], [0.4,1.8]])\n",
    "print(time(bbd))"
   ]
  },
  {
   "cell_type": "code",
   "execution_count": 86,
   "id": "37f8eff4-9b44-4f9f-a7c8-426964b28d94",
   "metadata": {},
   "outputs": [
    {
     "name": "stdout",
     "output_type": "stream",
     "text": [
      "Stopping search: maximum iterations reached --> 100\n",
      "24.0000,0.0120,1.3680,0.4000,47.4498,1.8406\n"
     ]
    }
   ],
   "source": [
    "def cost(mgP, gluP, naP, working_cost, bounds):\n",
    "    working_cost = float(str(working_cost))\n",
    "    mgP = float(str(mgP))\n",
    "    gluP = float(str(gluP))\n",
    "    naP = float(str(naP))\n",
    "\n",
    "    def cost_obj(X):\n",
    "        time = X[0]\n",
    "        mg = X[1]\n",
    "        glu = X[2]\n",
    "        na = X[3]\n",
    "        X = [X]\n",
    "        X = np.array(X)\n",
    "        input_data = X.astype(np.float32)\n",
    "        input_data = input_data.reshape(1,4)\n",
    "        interpreter.set_tensor(input_details[0]['index'], input_data)\n",
    "        interpreter.invoke()\n",
    "        protein = interpreter.get_tensor(output_details[0]['index'])\n",
    "        price  = mg*mgP + glu*gluP + na*naP + time* working_cost\n",
    "        result = protein/price\n",
    "        return -result\n",
    "\n",
    "    bounds = np.array(bounds)\n",
    "    values, cost = runPSO(cost_obj, bounds)\n",
    "\n",
    "    # Predict protein\n",
    "    values = np.array(values)\n",
    "    input_data = values.astype(np.float32)\n",
    "    input_data = input_data.reshape(1,4)\n",
    "    interpreter.set_tensor(input_details[0]['index'], input_data)\n",
    "    interpreter.invoke()\n",
    "    protein = interpreter.get_tensor(output_details[0]['index'])\n",
    "\n",
    "    cost = np.array([-cost])\n",
    "    protein = np.array(protein)\n",
    "    cost = cost.reshape(1,)\n",
    "    protein = protein.reshape(cost.shape)\n",
    "    pro = np.concatenate((values, protein, cost))\n",
    "    formatted_list = [format(num, '.4f') for num in pro]\n",
    "    return ','.join(map(str, formatted_list))\n",
    "\n",
    "\n",
    "bbd = np.array([[24,30], [0.012,0.082], [0.4,2], [0.4,1.8]])\n",
    "print(cost(1,1,1,1,bbd))"
   ]
  },
  {
   "cell_type": "code",
   "execution_count": 85,
   "id": "4dc34eb2-9820-4d9f-b3e4-8e28fb4da816",
   "metadata": {},
   "outputs": [
    {
     "name": "stdout",
     "output_type": "stream",
     "text": [
      "Stopping search: maximum iterations reached --> 100\n",
      "[55.060287]\n",
      "29.1479,0.0304,1.0134,1.5856,55.0603,1069.4285\n"
     ]
    }
   ],
   "source": [
    "def profit(working_cost, mgP, gluP, naP,product_value, bounds):\n",
    "    # Manipulation of inputs\n",
    "    working_cost = float(str(working_cost))\n",
    "    mgP = float(str(mgP))\n",
    "    gluP = float(str(gluP))\n",
    "    naP = float(str(naP))\n",
    "    product_value = float(str(product_value))\n",
    "    bounds = np.array(bounds)\n",
    "\n",
    "    # Objective function\n",
    "    def prof_obj(X):\n",
    "        time = X[0]\n",
    "        mg = X[1]\n",
    "        glu = X[2]\n",
    "        na = X[3]\n",
    "        X = [X]\n",
    "        X = np.array(X)\n",
    "        input_data = X.astype(np.float32)\n",
    "        input_data = input_data.reshape(1,4)\n",
    "        interpreter.set_tensor(input_details[0]['index'], input_data)\n",
    "        interpreter.invoke()\n",
    "        protein = interpreter.get_tensor(output_details[0]['index'])\n",
    "        price = (time * working_cost) + (mg*mgP) + (glu*gluP) + (na*naP)\n",
    "        selling = protein * product_value\n",
    "        result = selling - price\n",
    "        return -result\n",
    "        \n",
    "    values, profit = runPSO(prof_obj, bounds)\n",
    "\n",
    "    # Predict protein\n",
    "    values = np.array(values)\n",
    "    input_data = values.astype(np.float32)\n",
    "    input_data = input_data.reshape(1,4)\n",
    "    interpreter.set_tensor(input_details[0]['index'], input_data)\n",
    "    interpreter.invoke()\n",
    "    protein = interpreter.get_tensor(output_details[0]['index'])\n",
    "\n",
    "    profit = np.array([-profit])\n",
    "    protein = np.array(protein)\n",
    "    profit = profit.reshape(1,)\n",
    "    protein = protein.reshape(profit.shape)\n",
    "    print(protein)\n",
    "    pro = np.concatenate((values, protein, profit))\n",
    "    formatted_list = [format(num, '.4f') for num in pro]\n",
    "    return ','.join(map(str, formatted_list))\n",
    "\n",
    "bbd = np.array([[24,30], [0.012,0.082], [0.4,2], [0.4,1.8]])\n",
    "print(profit(1,1,1,1,20,bbd))"
   ]
  },
  {
   "cell_type": "code",
   "execution_count": null,
   "id": "efb12485-5bb7-4074-baa4-7e2d5120f81f",
   "metadata": {},
   "outputs": [],
   "source": []
  }
 ],
 "metadata": {
  "kernelspec": {
   "display_name": "Python 3 (ipykernel)",
   "language": "python",
   "name": "python3"
  },
  "language_info": {
   "codemirror_mode": {
    "name": "ipython",
    "version": 3
   },
   "file_extension": ".py",
   "mimetype": "text/x-python",
   "name": "python",
   "nbconvert_exporter": "python",
   "pygments_lexer": "ipython3",
   "version": "3.8.10"
  }
 },
 "nbformat": 4,
 "nbformat_minor": 5
}
