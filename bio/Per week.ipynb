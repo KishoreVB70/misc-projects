{
 "cells": [
  {
   "cell_type": "code",
   "execution_count": 3,
   "id": "ba59d36b-9dea-4445-830e-104d67661c45",
   "metadata": {},
   "outputs": [
    {
     "ename": "IndentationError",
     "evalue": "expected an indented block (2933106298.py, line 13)",
     "output_type": "error",
     "traceback": [
      "\u001b[0;36m  Cell \u001b[0;32mIn[3], line 13\u001b[0;36m\u001b[0m\n\u001b[0;31m    cost(168, 10, 20, 30, 1, 2, 3, 1)\u001b[0m\n\u001b[0m    ^\u001b[0m\n\u001b[0;31mIndentationError\u001b[0m\u001b[0;31m:\u001b[0m expected an indented block\n"
     ]
    }
   ],
   "source": [
    "def basic(time, mg, glu, na):\n",
    "    time/time_optimization\n",
    "    # that num of batches\n",
    "basic(168, 10, 20, 30)\n",
    "\n",
    "def cost(time, mgStock, gluStock, naStock, working_cost, mgP, gluP, naP):\n",
    "    # 1 -> Do cost optimization -> 24hours\n",
    "\n",
    "    # 2 -> divide each value by the optimal value\n",
    "\n",
    "    # 168/24.58 -> 6.83, 10/0.0337, 20/0.9575, 30/1.5\n",
    "\n",
    "cost(168, 10, 20, 30, 1, 2, 3, 1)\n",
    "    "
   ]
  },
  {
   "cell_type": "code",
   "execution_count": 6,
   "id": "eeab41e0-91d7-477c-afb2-6085fb5a2a80",
   "metadata": {},
   "outputs": [
    {
     "data": {
      "text/plain": [
       "(6.834825061025224, 296.7359050445104, 20.887728459530027, 6.0)"
      ]
     },
     "execution_count": 6,
     "metadata": {},
     "output_type": "execute_result"
    }
   ],
   "source": [
    "168/24.58, 10/0.0337, 20/0.9575, 9/1.5"
   ]
  },
  {
   "cell_type": "code",
   "execution_count": null,
   "id": "f2ba7ad2-768e-4f26-a75f-3abb373216f5",
   "metadata": {},
   "outputs": [],
   "source": []
  }
 ],
 "metadata": {
  "kernelspec": {
   "display_name": "Python 3 (ipykernel)",
   "language": "python",
   "name": "python3"
  },
  "language_info": {
   "codemirror_mode": {
    "name": "ipython",
    "version": 3
   },
   "file_extension": ".py",
   "mimetype": "text/x-python",
   "name": "python",
   "nbconvert_exporter": "python",
   "pygments_lexer": "ipython3",
   "version": "3.8.10"
  }
 },
 "nbformat": 4,
 "nbformat_minor": 5
}
