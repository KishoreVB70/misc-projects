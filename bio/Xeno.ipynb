{
 "cells": [
  {
   "cell_type": "code",
   "execution_count": 1,
   "id": "4e076e4e-928c-4679-8467-b355e162e052",
   "metadata": {},
   "outputs": [],
   "source": [
    "import pandas as pd\n",
    "import numpy as np"
   ]
  },
  {
   "cell_type": "code",
   "execution_count": 2,
   "id": "5f7c6a3a-c012-49dc-b51d-dc0b5d8c85d6",
   "metadata": {},
   "outputs": [],
   "source": [
    "df = pd.read_csv('./ccd norm.csv')"
   ]
  },
  {
   "cell_type": "code",
   "execution_count": 3,
   "id": "06a6ee34-1369-4284-a566-04aab43cfab9",
   "metadata": {},
   "outputs": [
    {
     "data": {
      "text/html": [
       "<div>\n",
       "<style scoped>\n",
       "    .dataframe tbody tr th:only-of-type {\n",
       "        vertical-align: middle;\n",
       "    }\n",
       "\n",
       "    .dataframe tbody tr th {\n",
       "        vertical-align: top;\n",
       "    }\n",
       "\n",
       "    .dataframe thead th {\n",
       "        text-align: right;\n",
       "    }\n",
       "</style>\n",
       "<table border=\"1\" class=\"dataframe\">\n",
       "  <thead>\n",
       "    <tr style=\"text-align: right;\">\n",
       "      <th></th>\n",
       "      <th>hours</th>\n",
       "      <th>mg</th>\n",
       "      <th>glucose</th>\n",
       "      <th>Na</th>\n",
       "      <th>protien</th>\n",
       "    </tr>\n",
       "  </thead>\n",
       "  <tbody>\n",
       "    <tr>\n",
       "      <th>count</th>\n",
       "      <td>30.000000</td>\n",
       "      <td>30.000000</td>\n",
       "      <td>30.000000</td>\n",
       "      <td>30.000000</td>\n",
       "      <td>30.000000</td>\n",
       "    </tr>\n",
       "    <tr>\n",
       "      <th>mean</th>\n",
       "      <td>29.000000</td>\n",
       "      <td>0.029400</td>\n",
       "      <td>0.600000</td>\n",
       "      <td>1.170000</td>\n",
       "      <td>36.095917</td>\n",
       "    </tr>\n",
       "    <tr>\n",
       "      <th>std</th>\n",
       "      <td>0.939552</td>\n",
       "      <td>0.005074</td>\n",
       "      <td>0.187910</td>\n",
       "      <td>0.300657</td>\n",
       "      <td>7.736014</td>\n",
       "    </tr>\n",
       "    <tr>\n",
       "      <th>min</th>\n",
       "      <td>26.809110</td>\n",
       "      <td>0.017569</td>\n",
       "      <td>0.161822</td>\n",
       "      <td>0.468915</td>\n",
       "      <td>21.494387</td>\n",
       "    </tr>\n",
       "    <tr>\n",
       "      <th>25%</th>\n",
       "      <td>28.000000</td>\n",
       "      <td>0.024000</td>\n",
       "      <td>0.400000</td>\n",
       "      <td>0.850000</td>\n",
       "      <td>31.529018</td>\n",
       "    </tr>\n",
       "    <tr>\n",
       "      <th>50%</th>\n",
       "      <td>29.000000</td>\n",
       "      <td>0.029400</td>\n",
       "      <td>0.600000</td>\n",
       "      <td>1.170000</td>\n",
       "      <td>35.140580</td>\n",
       "    </tr>\n",
       "    <tr>\n",
       "      <th>75%</th>\n",
       "      <td>30.000000</td>\n",
       "      <td>0.034800</td>\n",
       "      <td>0.800000</td>\n",
       "      <td>1.490000</td>\n",
       "      <td>40.521911</td>\n",
       "    </tr>\n",
       "    <tr>\n",
       "      <th>max</th>\n",
       "      <td>31.190890</td>\n",
       "      <td>0.041231</td>\n",
       "      <td>1.038178</td>\n",
       "      <td>1.871085</td>\n",
       "      <td>52.607302</td>\n",
       "    </tr>\n",
       "  </tbody>\n",
       "</table>\n",
       "</div>"
      ],
      "text/plain": [
       "           hours         mg    glucose         Na    protien\n",
       "count  30.000000  30.000000  30.000000  30.000000  30.000000\n",
       "mean   29.000000   0.029400   0.600000   1.170000  36.095917\n",
       "std     0.939552   0.005074   0.187910   0.300657   7.736014\n",
       "min    26.809110   0.017569   0.161822   0.468915  21.494387\n",
       "25%    28.000000   0.024000   0.400000   0.850000  31.529018\n",
       "50%    29.000000   0.029400   0.600000   1.170000  35.140580\n",
       "75%    30.000000   0.034800   0.800000   1.490000  40.521911\n",
       "max    31.190890   0.041231   1.038178   1.871085  52.607302"
      ]
     },
     "execution_count": 3,
     "metadata": {},
     "output_type": "execute_result"
    }
   ],
   "source": [
    "df.describe()"
   ]
  },
  {
   "cell_type": "code",
   "execution_count": null,
   "id": "f21c7cdd-249c-4b6f-84b6-5113c07d144b",
   "metadata": {},
   "outputs": [],
   "source": []
  }
 ],
 "metadata": {
  "kernelspec": {
   "display_name": "Python 3 (ipykernel)",
   "language": "python",
   "name": "python3"
  },
  "language_info": {
   "codemirror_mode": {
    "name": "ipython",
    "version": 3
   },
   "file_extension": ".py",
   "mimetype": "text/x-python",
   "name": "python",
   "nbconvert_exporter": "python",
   "pygments_lexer": "ipython3",
   "version": "3.8.10"
  }
 },
 "nbformat": 4,
 "nbformat_minor": 5
}
